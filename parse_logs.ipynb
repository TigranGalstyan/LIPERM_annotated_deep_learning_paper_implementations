{
 "cells": [
  {
   "cell_type": "code",
   "execution_count": 2,
   "id": "2965279f-9cd9-4a07-81f3-b1b444d2fd2b",
   "metadata": {},
   "outputs": [],
   "source": [
    "import matplotlib.pyplot as plt\n",
    "from tensorboard.backend.event_processing.event_accumulator import EventAccumulator\n",
    "import io\n",
    "import os\n",
    "from glob import glob\n",
    "from tqdm import tqdm\n",
    "\n"
   ]
  },
  {
   "cell_type": "code",
   "execution_count": 3,
   "id": "3c6f8927-8618-46b4-a9bf-0b3a3536bbcb",
   "metadata": {},
   "outputs": [],
   "source": [
    "def parse_tensorboard_logs(logdir, img=False):\n",
    "    event_acc = EventAccumulator(logdir)\n",
    "    event_acc.Reload()\n",
    "\n",
    "    # Get all tags (usually represent different summaries such as scalars, histograms, etc.)\n",
    "    tags = event_acc.Tags()\n",
    "\n",
    "    # Get scalar data\n",
    "    scalar_data = {}\n",
    "    for tag in tags['scalars']:\n",
    "        scalar_data[tag] = [(event.step, event.value) for event in event_acc.Scalars(tag)]\n",
    "\n",
    "    if img:\n",
    "        # Get image data\n",
    "        image_data = {}\n",
    "        for tag in tags['images']:\n",
    "            img_events = event_acc.Images(tag)\n",
    "            image_data[tag] = []\n",
    "            for img_event in img_events:\n",
    "                step = img_event.step\n",
    "                encoded_image = img_event.encoded_image_string\n",
    "                # Decode the image string to PIL Image\n",
    "                image = Image.open(io.BytesIO(encoded_image))\n",
    "                image_data[tag].append((step, image))\n",
    "    \n",
    "        return scalar_data, image_data\n",
    "    else:\n",
    "        return scalar_data"
   ]
  },
  {
   "cell_type": "code",
   "execution_count": 4,
   "id": "3304a8fa-5906-4cbb-974b-07596093fafe",
   "metadata": {},
   "outputs": [],
   "source": [
    "def combine_plots(folder_list, k='loss/generator/train', skip=10**3):\n",
    "    for folder in tqdm(folder_list):\n",
    "        print(f'Parsing {folder}')\n",
    "        scalar_data = parse_tensorboard_logs(folder)\n",
    "        print(len(scalar_data[k]))\n",
    "        plt.plot([x[1] for x in scalar_data[k][::skip]])"
   ]
  },
  {
   "cell_type": "code",
   "execution_count": 5,
   "id": "7e24818c-fbc6-4449-9107-7eba67f56049",
   "metadata": {},
   "outputs": [
    {
     "name": "stderr",
     "output_type": "stream",
     "text": [
      "0it [00:00, ?it/s]\n"
     ]
    }
   ],
   "source": [
    "\n",
    "files = [] # Paths to logs\n",
    "\n",
    "combine_plots(files)"
   ]
  },
  {
   "cell_type": "code",
   "execution_count": null,
   "id": "9f9f98b4-f397-4f5e-a8c2-1ade5d907755",
   "metadata": {},
   "outputs": [],
   "source": []
  },
  {
   "cell_type": "markdown",
   "id": "cd28cbd7-5147-4bf4-9180-677f8a07b665",
   "metadata": {},
   "source": [
    "# Draw samples"
   ]
  },
  {
   "cell_type": "code",
   "execution_count": 6,
   "id": "1b7ba500-a324-45a1-b440-20d0fe23fcbb",
   "metadata": {},
   "outputs": [
    {
     "name": "stderr",
     "output_type": "stream",
     "text": [
      "/auto/home/tigrann/miniforge3/envs/liperm/lib/python3.11/site-packages/torchmetrics/utilities/prints.py:43: UserWarning: Metric `InceptionScore` will save all extracted features in buffer. For large datasets this may lead to large memory footprint.\n",
      "  warnings.warn(*args, **kwargs)  # noqa: B028\n"
     ]
    }
   ],
   "source": [
    "from labml_nn.gan.wasserstein.gradient_penalty.liperm.cifar10_experiment import Configs\n",
    "from labml import experiment\n",
    "from torchvision.utils import make_grid"
   ]
  },
  {
   "cell_type": "code",
   "execution_count": null,
   "id": "c84bd66f-4024-40a1-b348-fcc314f97263",
   "metadata": {},
   "outputs": [],
   "source": [
    "exp_name, run_uuid ='',  ''\n",
    "\n",
    "experiment.create(name=exp_name)\n",
    "\n",
    "# Create configs\n",
    "conf = Configs()\n",
    "# Load custom configuration of the training run\n",
    "configs_dict = experiment.load_configs(run_uuid)\n",
    "\n",
    "# Initialize\n",
    "conf.init()\n",
    "\n",
    "# Set PyTorch modules for saving and loading\n",
    "experiment.add_pytorch_models({'generator': conf.generator,\n",
    "                               'discriminator': conf.discriminator,\n",
    "                               'inverse_generator': conf.inverse_generator})\n",
    "\n",
    "# Load training experiment\n",
    "experiment.load(run_uuid)\n",
    "\n",
    "experiment.start()"
   ]
  },
  {
   "cell_type": "code",
   "execution_count": null,
   "id": "3b7bcc92-affc-4635-b314-437f4acb3c80",
   "metadata": {},
   "outputs": [],
   "source": [
    "latent = conf.sample_z(25)\n",
    "generated_images = (conf.generator(latent).detach().cpu() + 1 ) / 2\n",
    "grid = make_grid(generated_images, nrow=5, pad_value=1.0).permute(1, 2, 0)"
   ]
  },
  {
   "cell_type": "code",
   "execution_count": null,
   "id": "acac1a5b-e931-41d4-b4ad-d87c08161c00",
   "metadata": {},
   "outputs": [],
   "source": [
    "plt.imshow(grid)\n",
    "plt.axis('off');"
   ]
  },
  {
   "cell_type": "code",
   "execution_count": null,
   "id": "3eb50485-1c7b-4ae8-93c2-3dd7dc6dfa17",
   "metadata": {},
   "outputs": [],
   "source": []
  }
 ],
 "metadata": {
  "kernelspec": {
   "display_name": "Python 3 (ipykernel)",
   "language": "python",
   "name": "python3"
  },
  "language_info": {
   "codemirror_mode": {
    "name": "ipython",
    "version": 3
   },
   "file_extension": ".py",
   "mimetype": "text/x-python",
   "name": "python",
   "nbconvert_exporter": "python",
   "pygments_lexer": "ipython3",
   "version": "3.11.8"
  }
 },
 "nbformat": 4,
 "nbformat_minor": 5
}
